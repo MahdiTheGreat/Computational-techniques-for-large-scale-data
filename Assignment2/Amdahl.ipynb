{
 "cells": [
  {
   "cell_type": "code",
   "execution_count": 5,
   "id": "d50f1107-fa75-4663-858b-06ced843c61a",
   "metadata": {},
   "outputs": [
    {
     "name": "stdout",
     "output_type": "stream",
     "text": [
      "Speedup with 2 processors: 1.5385\n",
      "Speedup with 4 processors: 2.1053\n",
      "Speedup with 8 processors: 2.5806\n",
      "Speedup with 16 processors: 2.9091\n",
      "Speedup with 32 processors: 3.1068\n"
     ]
    }
   ],
   "source": [
    "def amdahl_speedup(P, n_values):\n",
    "    speedups = {}\n",
    "    for n in n_values:\n",
    "        speedup = 1 / ((1 - P) + (P / n))\n",
    "        speedups[n] = round(speedup, 4)\n",
    "    return speedups\n",
    "\n",
    "# Example usage\n",
    "P = 0.7\n",
    "n_values = [2, 4, 8, 16, 32]\n",
    "speedup_results = amdahl_speedup(P, n_values)\n",
    "for n, s in speedup_results.items():\n",
    "    print(f\"Speedup with {n} processors: {s}\")\n"
   ]
  },
  {
   "cell_type": "code",
   "execution_count": 6,
   "id": "e4ad8b02-44c1-4298-be25-1302a1a93c69",
   "metadata": {},
   "outputs": [
    {
     "name": "stdout",
     "output_type": "stream",
     "text": [
      "Maximum theoretical speedup with infinite processors: 3.3333\n"
     ]
    }
   ],
   "source": [
    "max_speedup = 1 / (1 - P)\n",
    "print(f\"Maximum theoretical speedup with infinite processors: {round(max_speedup, 4)}\")\n"
   ]
  },
  {
   "cell_type": "code",
   "execution_count": null,
   "id": "012f1d1c-c570-43e1-afd2-ae0c06d50a3f",
   "metadata": {},
   "outputs": [],
   "source": []
  }
 ],
 "metadata": {
  "kernelspec": {
   "display_name": "Python 3 (ipykernel)",
   "language": "python",
   "name": "python3"
  },
  "language_info": {
   "codemirror_mode": {
    "name": "ipython",
    "version": 3
   },
   "file_extension": ".py",
   "mimetype": "text/x-python",
   "name": "python",
   "nbconvert_exporter": "python",
   "pygments_lexer": "ipython3",
   "version": "3.12.3"
  }
 },
 "nbformat": 4,
 "nbformat_minor": 5
}
